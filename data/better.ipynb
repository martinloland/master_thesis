{
 "cells": [
  {
   "cell_type": "code",
   "execution_count": 2,
   "metadata": {},
   "outputs": [],
   "source": [
    "import pandas as pd\n",
    "import numpy as np\n",
    "import sqlite3\n",
    "import matplotlib.pyplot as plt\n",
    "import matplotlib.ticker as ticker\n",
    "from math import pi\n",
    "\n",
    "def exp_format(x, pos=None):\n",
    "    names = {1: 'Delay',\n",
    "            2: 'Delay PD',\n",
    "            3: 'No delay'}\n",
    "    return names[x]"
   ]
  },
  {
   "cell_type": "code",
   "execution_count": 4,
   "metadata": {},
   "outputs": [],
   "source": [
    "conn = sqlite3.connect(\"data.db\")\n",
    "act = pd.read_sql_query(\"select rowid, * from actors where valid=1;\", conn)"
   ]
  },
  {
   "cell_type": "markdown",
   "metadata": {},
   "source": [
    "## Performance"
   ]
  },
  {
   "cell_type": "code",
   "execution_count": 15,
   "metadata": {},
   "outputs": [
    {
     "data": {
      "image/png": "[encoded data removed]",
      "text/plain": [
       "<matplotlib.figure.Figure at 0xf485f8>"
      ]
     },
     "metadata": {},
     "output_type": "display_data"
    }
   ],
   "source": [
    "filename = 'performance_norm'\n",
    "plt.style.use('classic')\n",
    "plt.style.use('thesis.mplstyle')\n",
    "\n",
    "hits = np.array(act[['tothitsexp0', 'tothitsexp1', 'tothitsexp2', 'tothits']]).astype(float)\n",
    "norm = np.zeros((hits.shape[0],3))\n",
    "avg = hits.mean(axis=0)\n",
    "for i, row in enumerate(hits):\n",
    "    norm[i,0] = row[0]/row[3]*avg[3]\n",
    "    norm[i,1] = row[1]/row[3]*avg[3]\n",
    "    norm[i,2] = row[2]/row[3]*avg[3]\n",
    "\n",
    "fig, ax = plt.subplots(figsize=(4,4))\n",
    "ax.boxplot(norm, whis=2, widths=0.5)\n",
    "ax.xaxis.set_major_formatter(ticker.FuncFormatter(exp_format))\n",
    "plt.ylabel('Score')\n",
    "plt.show()\n",
    "# fig.savefig('../img/{}.png'.format(filename), bbox_inches='tight')"
   ]
  },
  {
   "cell_type": "markdown",
   "metadata": {},
   "source": [
    "#### Table values"
   ]
  },
  {
   "cell_type": "code",
   "execution_count": 98,
   "metadata": {},
   "outputs": [
    {
     "data": {
      "text/html": [
       "<div>\n",
       "<style scoped>\n",
       "    .dataframe tbody tr th:only-of-type {\n",
       "        vertical-align: middle;\n",
       "    }\n",
       "\n",
       "    .dataframe tbody tr th {\n",
       "        vertical-align: top;\n",
       "    }\n",
       "\n",
       "    .dataframe thead th {\n",
       "        text-align: right;\n",
       "    }\n",
       "</style>\n",
       "<table border=\"1\" class=\"dataframe\">\n",
       "  <thead>\n",
       "    <tr style=\"text-align: right;\">\n",
       "      <th></th>\n",
       "      <th>diff_delay</th>\n",
       "      <th>diff_normal</th>\n",
       "      <th>diff_pd</th>\n",
       "      <th>experiment</th>\n",
       "      <th>max</th>\n",
       "      <th>mean</th>\n",
       "      <th>median</th>\n",
       "      <th>min</th>\n",
       "      <th>std</th>\n",
       "    </tr>\n",
       "  </thead>\n",
       "  <tbody>\n",
       "    <tr>\n",
       "      <th>0</th>\n",
       "      <td>0.000000</td>\n",
       "      <td>-0.605238</td>\n",
       "      <td>-0.168667</td>\n",
       "      <td>Delay</td>\n",
       "      <td>14.684211</td>\n",
       "      <td>6.320525</td>\n",
       "      <td>6.384439</td>\n",
       "      <td>2.842105</td>\n",
       "      <td>1.751276</td>\n",
       "    </tr>\n",
       "    <tr>\n",
       "      <th>1</th>\n",
       "      <td>0.202887</td>\n",
       "      <td>-0.525146</td>\n",
       "      <td>0.000000</td>\n",
       "      <td>Delay PD</td>\n",
       "      <td>14.684211</td>\n",
       "      <td>7.602880</td>\n",
       "      <td>7.342105</td>\n",
       "      <td>4.195489</td>\n",
       "      <td>1.706740</td>\n",
       "    </tr>\n",
       "    <tr>\n",
       "      <th>2</th>\n",
       "      <td>1.533175</td>\n",
       "      <td>0.000000</td>\n",
       "      <td>1.105912</td>\n",
       "      <td>No delay</td>\n",
       "      <td>26.921053</td>\n",
       "      <td>16.010994</td>\n",
       "      <td>15.813765</td>\n",
       "      <td>10.679426</td>\n",
       "      <td>2.531100</td>\n",
       "    </tr>\n",
       "  </tbody>\n",
       "</table>\n",
       "</div>"
      ],
      "text/plain": [
       "   diff_delay  diff_normal   diff_pd experiment        max       mean  \\\n",
       "0    0.000000    -0.605238 -0.168667      Delay  14.684211   6.320525   \n",
       "1    0.202887    -0.525146  0.000000   Delay PD  14.684211   7.602880   \n",
       "2    1.533175     0.000000  1.105912   No delay  26.921053  16.010994   \n",
       "\n",
       "      median        min       std  \n",
       "0   6.384439   2.842105  1.751276  \n",
       "1   7.342105   4.195489  1.706740  \n",
       "2  15.813765  10.679426  2.531100  "
      ]
     },
     "execution_count": 98,
     "metadata": {},
     "output_type": "execute_result"
    }
   ],
   "source": [
    "means = norm.mean(axis=0)\n",
    "\n",
    "x = np.reshape(np.reciprocal(means), (3,1))\n",
    "y = np.reshape(means, (1,3))\n",
    "change = np.dot(x,y)-1\n",
    "change = change.T\n",
    "\n",
    "d = {'experiment':[exp_format(i+1) for i in range(3)],\n",
    "    'mean':means,\n",
    "    'std':norm.std(axis=0),\n",
    "    'max':norm.max(axis=0),\n",
    "    'min':norm.min(axis=0),\n",
    "     'median':np.median(norm, axis=0),\n",
    "    'diff_delay':change[...,0],\n",
    "    'diff_pd':change[...,1],\n",
    "    'diff_normal':change[...,2],\n",
    "    }\n",
    "table = pd.DataFrame(data=d)\n",
    "table"
   ]
  },
  {
   "cell_type": "code",
   "execution_count": 99,
   "metadata": {},
   "outputs": [
    {
     "name": "stdout",
     "output_type": "stream",
     "text": [
      "Mean differences for score compared to all experiments\n",
      "---------------------------------------------------------\n",
      "                    Delay        Delay PD        No delay\n",
      "Delay               0.00%         -16.87%         -60.52%\n",
      "Delay PD           20.29%           0.00%         -52.51%\n",
      "No delay          153.32%         110.59%           0.00%\n"
     ]
    }
   ],
   "source": [
    "print('Mean differences for score compared to all experiments\\n{}'.format('-'*57))\n",
    "print('{:9} {:>15} {:>15} {:>15}'.format('', *(exp_format(i+1) for i in range(3))))\n",
    "for idx, row in table.iterrows():\n",
    "    print('{:9} {:>14.2f}% {:>14.2f}% {:>14.2f}%'.format(exp_format(idx+1), \n",
    "                                           row['diff_delay']*100, \n",
    "                                           row['diff_pd']*100, \n",
    "                                           row['diff_normal']*100))"
   ]
  },
  {
   "cell_type": "markdown",
   "metadata": {},
   "source": [
    "### Effect size"
   ]
  },
  {
   "cell_type": "code",
   "execution_count": 101,
   "metadata": {},
   "outputs": [
    {
     "data": {
      "text/plain": [
       "'\\\\begin{tabular}{lrrrlrrrrr}\\n\\\\toprule\\n{} &  diff\\\\_delay &  diff\\\\_normal &   diff\\\\_pd & experiment &        max &       mean &     median &        min &       std \\\\\\\\\\n\\\\midrule\\n0 &    0.000000 &    -0.605238 & -0.168667 &      Delay &  14.684211 &   6.320525 &   6.384439 &   2.842105 &  1.751276 \\\\\\\\\\n1 &    0.202887 &    -0.525146 &  0.000000 &   Delay PD &  14.684211 &   7.602880 &   7.342105 &   4.195489 &  1.706740 \\\\\\\\\\n2 &    1.533175 &     0.000000 &  1.105912 &   No delay &  26.921053 &  16.010994 &  15.813765 &  10.679426 &  2.531100 \\\\\\\\\\n\\\\bottomrule\\n\\\\end{tabular}\\n'"
      ]
     },
     "execution_count": 101,
     "metadata": {},
     "output_type": "execute_result"
    }
   ],
   "source": [
    "table.to_latex()"
   ]
  },
  {
   "cell_type": "markdown",
   "metadata": {},
   "source": [
    "## Load index"
   ]
  },
  {
   "cell_type": "code",
   "execution_count": 18,
   "metadata": {},
   "outputs": [
    {
     "data": {
      "image/png": "[encoded data removed]",
      "text/plain": [
       "<matplotlib.figure.Figure at 0xc03160>"
      ]
     },
     "metadata": {},
     "output_type": "display_data"
    }
   ],
   "source": [
    "filename = 'nasa_tlx_bar'\n",
    "plt.style.use('default')\n",
    "plt.style.use('thesis.mplstyle')\n",
    "\n",
    "n_partic = pd.read_sql_query(\"select rowid from actors where valid=1 ;\", conn).size\n",
    "fig1, ax1 = plt.subplots(figsize=(6.5,5))\n",
    "\n",
    "bar_width= 0.13\n",
    "\n",
    "for idx, metric in enumerate(['Mental', 'Physical', 'Temporal', 'Effort', 'Performance', 'Frustration']):\n",
    "    data = np.zeros([n_partic,3])\n",
    "    for exp in range(3):\n",
    "        load = pd.read_sql_query(\"select {} from survey where valid=1 and experiment={};\"\n",
    "                                 .format(metric, exp), conn)\n",
    "        data[...,exp] = np.reshape(np.array(load),(57,))\n",
    "    if metric == 'Performance':\n",
    "        data = np.ones_like(data)*10-data\n",
    "    mean = data.mean(axis=0)\n",
    "    std = data.std(axis=0)\n",
    "    x_pos = np.arange(3)+1 - bar_width*3 +idx*bar_width+bar_width/2\n",
    "    \n",
    "    ax1.bar(x_pos, mean, bar_width, yerr=std, label=metric, \n",
    "            edgecolor='k', \n",
    "            linewidth=1,\n",
    "           capsize=2,\n",
    "           error_kw={'linewidth':0.8})\n",
    "\n",
    "\n",
    "ax1.xaxis.set_major_formatter(ticker.FuncFormatter(exp_format))\n",
    "ax1.set_xticks(np.arange(3)+1)\n",
    "plt.ylim(0,10)\n",
    "plt.legend(ncol=2)\n",
    "plt.show()\n",
    "# fig1.savefig('../img/{}.png'.format(filename), bbox_inches='tight')"
   ]
  },
  {
   "cell_type": "code",
   "execution_count": null,
   "metadata": {},
   "outputs": [],
   "source": []
  },
  {
   "cell_type": "code",
   "execution_count": null,
   "metadata": {},
   "outputs": [],
   "source": []
  }
 ],
 "metadata": {
  "kernelspec": {
   "display_name": "Python 3",
   "language": "python",
   "name": "python3"
  },
  "language_info": {
   "codemirror_mode": {
    "name": "ipython",
    "version": 3
   },
   "file_extension": ".py",
   "mimetype": "text/x-python",
   "name": "python",
   "nbconvert_exporter": "python",
   "pygments_lexer": "ipython3",
   "version": "3.4.4"
  }
 },
 "nbformat": 4,
 "nbformat_minor": 2
}
