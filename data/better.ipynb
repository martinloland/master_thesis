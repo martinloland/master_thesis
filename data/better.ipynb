{
 "cells": [
  {
   "cell_type": "code",
   "execution_count": 62,
   "metadata": {},
   "outputs": [],
   "source": [
    "import pandas as pd\n",
    "from scipy import stats\n",
    "import numpy as np\n",
    "import sqlite3\n",
    "import matplotlib.pyplot as plt\n",
    "import matplotlib.ticker as ticker\n",
    "from math import pi\n",
    "\n",
    "def exp_format(x, pos=None):\n",
    "    names = {1: 'Delay',\n",
    "            2: 'Delay PD',\n",
    "            3: 'No delay'}\n",
    "    return names[x]"
   ]
  },
  {
   "cell_type": "code",
   "execution_count": 63,
   "metadata": {},
   "outputs": [],
   "source": [
    "conn = sqlite3.connect(\"data.db\")\n",
    "act = pd.read_sql_query(\"select rowid, * from actors where valid=1;\", conn)"
   ]
  },
  {
   "cell_type": "markdown",
   "metadata": {},
   "source": [
    "## Recorded data"
   ]
  },
  {
   "cell_type": "code",
   "execution_count": 64,
   "metadata": {},
   "outputs": [
    {
     "name": "stdout",
     "output_type": "stream",
     "text": [
      "A total of 11865 data points were collected\n"
     ]
    }
   ],
   "source": [
    "all_act = pd.read_sql_query(\"select * from actors where valid=1;\", conn)\n",
    "all_hits = pd.read_sql_query(\"select * from hits where valid=1;\", conn)\n",
    "all_survey = pd.read_sql_query(\"select * from survey where valid=1;\", conn)\n",
    "print('A total of {} data points were collected'.format(all_act.size+all_hits.size+all_survey.size))"
   ]
  },
  {
   "cell_type": "markdown",
   "metadata": {},
   "source": [
    "## Task times"
   ]
  },
  {
   "cell_type": "code",
   "execution_count": 65,
   "metadata": {},
   "outputs": [
    {
     "name": "stdout",
     "output_type": "stream",
     "text": [
      "Subjects used on average 10 minutes and 56 seconds with a standard deviation of 1min and 12s\n"
     ]
    }
   ],
   "source": [
    "times = pd.read_sql_query(\"select start, end from actors where valid=1;\", conn)\n",
    "length = np.array(times['end']-times['start'])\n",
    "minutes = length.mean()/60-length.mean()/60%1\n",
    "seconds = (length.mean()/60)%1*60\n",
    "minutes_std = length.std()/60-length.std()/60%1\n",
    "seconds_std = (length.std()/60)%1*60\n",
    "\n",
    "\n",
    "print('Subjects used on average {:.0f} minutes and {:.0f} seconds with a standard deviation of {:.0f}min and {:.0f}s'\n",
    "     .format(minutes, seconds, minutes_std, seconds_std))"
   ]
  },
  {
   "cell_type": "markdown",
   "metadata": {},
   "source": [
    "## Demographics"
   ]
  },
  {
   "cell_type": "code",
   "execution_count": 66,
   "metadata": {},
   "outputs": [
    {
     "name": "stdout",
     "output_type": "stream",
     "text": [
      "58 total participants, 1 excluded\n",
      "35.1% females\n",
      "Average age of 24.7 years with a STD of 1.45\n",
      "100% said they use computer on a daily basis \n",
      "Gaming: daily 4%, weekly 26%, monthly 14%, yearly 30% and never 26%\n"
     ]
    }
   ],
   "source": [
    "valid_n = len(pd.read_sql_query(\"select age, gender, education, computer, eye from actors where valid=1;\", conn))\n",
    "non_valid = pd.read_sql_query(\"select age, gender, education, computer, eye from actors where valid=0;\", conn)\n",
    "female = pd.read_sql_query(\"select age, gender, education, computer, eye from actors where gender=1;\", conn)\n",
    "ages_df = pd.read_sql_query(\"select age from actors where valid=1;\", conn)\n",
    "ages = np.array(ages_df)\n",
    "game = []\n",
    "for i in range(5):\n",
    "    query = \"select * from actors where valid=1 and game={};\".format(i)\n",
    "    game.append(len(pd.read_sql_query(query, conn)))\n",
    "\n",
    "\n",
    "print('{} total participants, {} excluded'.format(valid_n+len(non_valid),len(non_valid) ))\n",
    "print('{:.1f}% females'.format(len(female)/valid_n*100))\n",
    "print('Average age of {:.1f} years with a STD of {:.2f}'.format(float(ages.mean(axis=0)), float(ages.std(axis=0))))\n",
    "print('100% said they use computer on a daily basis ')\n",
    "print('Gaming: daily {:.0f}%, weekly {:.0f}%, monthly {:.0f}%, yearly {:.0f}% and never {:.0f}%'.format(*[i/valid_n*100 for i in game]))"
   ]
  },
  {
   "cell_type": "markdown",
   "metadata": {},
   "source": [
    "## Performance"
   ]
  },
  {
   "cell_type": "code",
   "execution_count": 77,
   "metadata": {},
   "outputs": [
    {
     "data": {
      "image/png": "[encoded data removed]",
      "text/plain": [
       "<matplotlib.figure.Figure at 0x81f5198>"
      ]
     },
     "metadata": {},
     "output_type": "display_data"
    }
   ],
   "source": [
    "filename = 'performance_norm'\n",
    "plt.style.use('classic')\n",
    "plt.style.use('thesis.mplstyle')\n",
    "\n",
    "hits = np.array(act[['tothitsexp0', 'tothitsexp1', 'tothitsexp2', 'tothits']]).astype(float)\n",
    "norm = np.zeros((hits.shape[0],3))\n",
    "avg = hits.mean(axis=0)\n",
    "for i, row in enumerate(hits):\n",
    "    norm[i,0] = row[0]/row[3]*avg[3]\n",
    "    norm[i,1] = row[1]/row[3]*avg[3]\n",
    "    norm[i,2] = row[2]/row[3]*avg[3]\n",
    "\n",
    "fig, ax = plt.subplots(figsize=(4,4))\n",
    "ax.boxplot(norm, whis=2, widths=0.5)\n",
    "ax.xaxis.set_major_formatter(ticker.FuncFormatter(exp_format))\n",
    "plt.ylabel('Score')\n",
    "plt.show()\n",
    "# fig.savefig('../img/{}.png'.format(filename), bbox_inches='tight')"
   ]
  },
  {
   "cell_type": "code",
   "execution_count": null,
   "metadata": {},
   "outputs": [],
   "source": []
  },
  {
   "cell_type": "markdown",
   "metadata": {},
   "source": [
    "### Significance, Paired sample t-test and Cohen's D"
   ]
  },
  {
   "cell_type": "code",
   "execution_count": 107,
   "metadata": {},
   "outputs": [
    {
     "name": "stdout",
     "output_type": "stream",
     "text": [
      "t(56)=4.82, p<.001, d=0.735\n"
     ]
    }
   ],
   "source": [
    "from numpy import std, mean, sqrt\n",
    "\n",
    "def welch_dof(x,y):\n",
    "    dof = (x.var()/x.size + y.var()/y.size)**2 / ((x.var()/x.size)**2 / (x.size-1) + (y.var()/y.size)**2 / (y.size-1))\n",
    "    return dof\n",
    "\n",
    "def dependent_dof(x,y):\n",
    "    return (len(x)+len(y))/2-1\n",
    "\n",
    "def cohen_d(x,y):\n",
    "    x = x.tolist()\n",
    "    y = y.tolist()\n",
    "    nx = len(x)\n",
    "    ny = len(y)\n",
    "    dof = nx + ny - 2\n",
    "    return (mean(x) - mean(y)) / sqrt(((nx-1)*std(x, ddof=1) ** 2 + (ny-1)*std(y, ddof=1) ** 2) / dof)\n",
    "\n",
    "def print_sig(a, b):    \n",
    "    t_stat, p_value = stats.ttest_rel(b, a)\n",
    "    d_value = cohen_d(b, a)\n",
    "\n",
    "    if p_value < 0.001:\n",
    "        print('t({:.0f})={:.2f}, p<.001, d={:.3f}'.format(dependent_dof(a, b), t_stat, d_value))\n",
    "    else:\n",
    "        print('t({:.0f})={:.2f}, p={:.3f}, d={:.3f}'.format(dependent_dof(a, b), t_stat, p_value, d_value))\n",
    "\n",
    "print_sig(norm[...,0], norm[...,1])\n"
   ]
  },
  {
   "cell_type": "markdown",
   "metadata": {},
   "source": [
    "#### Table values"
   ]
  },
  {
   "cell_type": "code",
   "execution_count": 69,
   "metadata": {},
   "outputs": [
    {
     "data": {
      "text/html": [
       "<div>\n",
       "<style scoped>\n",
       "    .dataframe tbody tr th:only-of-type {\n",
       "        vertical-align: middle;\n",
       "    }\n",
       "\n",
       "    .dataframe tbody tr th {\n",
       "        vertical-align: top;\n",
       "    }\n",
       "\n",
       "    .dataframe thead th {\n",
       "        text-align: right;\n",
       "    }\n",
       "</style>\n",
       "<table border=\"1\" class=\"dataframe\">\n",
       "  <thead>\n",
       "    <tr style=\"text-align: right;\">\n",
       "      <th></th>\n",
       "      <th>diff_delay</th>\n",
       "      <th>diff_normal</th>\n",
       "      <th>diff_pd</th>\n",
       "      <th>experiment</th>\n",
       "      <th>max</th>\n",
       "      <th>mean</th>\n",
       "      <th>median</th>\n",
       "      <th>min</th>\n",
       "      <th>std</th>\n",
       "    </tr>\n",
       "  </thead>\n",
       "  <tbody>\n",
       "    <tr>\n",
       "      <th>0</th>\n",
       "      <td>0.000000</td>\n",
       "      <td>-0.605238</td>\n",
       "      <td>-0.168667</td>\n",
       "      <td>Delay</td>\n",
       "      <td>14.684211</td>\n",
       "      <td>6.320525</td>\n",
       "      <td>6.384439</td>\n",
       "      <td>2.842105</td>\n",
       "      <td>1.751276</td>\n",
       "    </tr>\n",
       "    <tr>\n",
       "      <th>1</th>\n",
       "      <td>0.202887</td>\n",
       "      <td>-0.525146</td>\n",
       "      <td>0.000000</td>\n",
       "      <td>Delay PD</td>\n",
       "      <td>14.684211</td>\n",
       "      <td>7.602880</td>\n",
       "      <td>7.342105</td>\n",
       "      <td>4.195489</td>\n",
       "      <td>1.706740</td>\n",
       "    </tr>\n",
       "    <tr>\n",
       "      <th>2</th>\n",
       "      <td>1.533175</td>\n",
       "      <td>0.000000</td>\n",
       "      <td>1.105912</td>\n",
       "      <td>No delay</td>\n",
       "      <td>26.921053</td>\n",
       "      <td>16.010994</td>\n",
       "      <td>15.813765</td>\n",
       "      <td>10.679426</td>\n",
       "      <td>2.531100</td>\n",
       "    </tr>\n",
       "  </tbody>\n",
       "</table>\n",
       "</div>"
      ],
      "text/plain": [
       "   diff_delay  diff_normal   diff_pd experiment        max       mean  \\\n",
       "0    0.000000    -0.605238 -0.168667      Delay  14.684211   6.320525   \n",
       "1    0.202887    -0.525146  0.000000   Delay PD  14.684211   7.602880   \n",
       "2    1.533175     0.000000  1.105912   No delay  26.921053  16.010994   \n",
       "\n",
       "      median        min       std  \n",
       "0   6.384439   2.842105  1.751276  \n",
       "1   7.342105   4.195489  1.706740  \n",
       "2  15.813765  10.679426  2.531100  "
      ]
     },
     "execution_count": 69,
     "metadata": {},
     "output_type": "execute_result"
    }
   ],
   "source": [
    "means = norm.mean(axis=0)\n",
    "\n",
    "x = np.reshape(np.reciprocal(means), (3,1))\n",
    "y = np.reshape(means, (1,3))\n",
    "change = np.dot(x,y)-1\n",
    "change = change.T\n",
    "\n",
    "d = {'experiment':[exp_format(i+1) for i in range(3)],\n",
    "    'mean':means,\n",
    "    'std':norm.std(axis=0),\n",
    "    'max':norm.max(axis=0),\n",
    "    'min':norm.min(axis=0),\n",
    "     'median':np.median(norm, axis=0),\n",
    "    'diff_delay':change[...,0],\n",
    "    'diff_pd':change[...,1],\n",
    "    'diff_normal':change[...,2],\n",
    "    }\n",
    "table = pd.DataFrame(data=d)\n",
    "table"
   ]
  },
  {
   "cell_type": "code",
   "execution_count": 70,
   "metadata": {},
   "outputs": [
    {
     "name": "stdout",
     "output_type": "stream",
     "text": [
      "Mean differences for score compared to all experiments\n",
      "---------------------------------------------------------\n",
      "                    Delay        Delay PD        No delay\n",
      "Delay               0.00%         -16.87%         -60.52%\n",
      "Delay PD           20.29%           0.00%         -52.51%\n",
      "No delay          153.32%         110.59%           0.00%\n"
     ]
    }
   ],
   "source": [
    "print('Mean differences for score compared to all experiments\\n{}'.format('-'*57))\n",
    "print('{:9} {:>15} {:>15} {:>15}'.format('', *(exp_format(i+1) for i in range(3))))\n",
    "for idx, row in table.iterrows():\n",
    "    print('{:9} {:>14.2f}% {:>14.2f}% {:>14.2f}%'.format(exp_format(idx+1), \n",
    "                                           row['diff_delay']*100, \n",
    "                                           row['diff_pd']*100, \n",
    "                                           row['diff_normal']*100))"
   ]
  },
  {
   "cell_type": "markdown",
   "metadata": {},
   "source": [
    "## Load index"
   ]
  },
  {
   "cell_type": "markdown",
   "metadata": {},
   "source": [
    "#### Absolute"
   ]
  },
  {
   "cell_type": "code",
   "execution_count": 101,
   "metadata": {},
   "outputs": [
    {
     "data": {
      "image/png": "[encoded data removed]",
      "text/plain": [
       "<matplotlib.figure.Figure at 0x8836198>"
      ]
     },
     "metadata": {},
     "output_type": "display_data"
    }
   ],
   "source": [
    "tlx_metrics = ['Mental', 'Physical', 'Temporal', 'Performance', 'Effort', 'Frustration']\n",
    "filename = 'nasa_tlx_bar'\n",
    "plt.style.use('default')\n",
    "plt.style.use('thesis.mplstyle')\n",
    "\n",
    "n_partic = pd.read_sql_query(\"select rowid from actors where valid=1 ;\", conn).size\n",
    "fig1, ax1 = plt.subplots(figsize=(6.5,5))\n",
    "tlx_answers = []\n",
    "\n",
    "bar_width= 0.13\n",
    "\n",
    "for idx, metric in enumerate(tlx_metrics):\n",
    "    data = np.zeros([n_partic,3])\n",
    "    for exp in range(3):\n",
    "        load = pd.read_sql_query(\"select {} from survey where valid=1 and experiment={};\"\n",
    "                                 .format(metric, exp), conn)\n",
    "        data[...,exp] = np.reshape(np.array(load),(57,))\n",
    "    if metric == 'Performance':\n",
    "        data = np.ones_like(data)*10-data\n",
    "    mean = data.mean(axis=0)\n",
    "    std = data.std(axis=0)\n",
    "    x_pos = np.arange(3)+1 - bar_width*3 +idx*bar_width+bar_width/2\n",
    "    tlx_answers.append(data)\n",
    "    \n",
    "    ax1.bar(x_pos, mean, bar_width, yerr=std, label=metric, \n",
    "            edgecolor='k', \n",
    "            linewidth=1,\n",
    "           capsize=2,\n",
    "           error_kw={'linewidth':0.8})\n",
    "\n",
    "\n",
    "ax1.xaxis.set_major_formatter(ticker.FuncFormatter(exp_format))\n",
    "ax1.set_xticks(np.arange(3)+1)\n",
    "plt.ylim(0,10)\n",
    "plt.legend(ncol=2)\n",
    "plt.show()\n",
    "# fig1.savefig('../img/{}.png'.format(filename), bbox_inches='tight')"
   ]
  },
  {
   "cell_type": "code",
   "execution_count": 109,
   "metadata": {},
   "outputs": [
    {
     "name": "stdout",
     "output_type": "stream",
     "text": [
      "t(56)=3.24, p=0.002, d=0.360\n"
     ]
    }
   ],
   "source": [
    "metric = 3\n",
    "g0 = tlx_answers[metric][...,0]\n",
    "g1 = tlx_answers[metric][...,1]\n",
    "print_sig(g1, g0)"
   ]
  },
  {
   "cell_type": "markdown",
   "metadata": {},
   "source": [
    "#### Normalized"
   ]
  },
  {
   "cell_type": "code",
   "execution_count": 72,
   "metadata": {},
   "outputs": [],
   "source": [
    "load_norm = [pd.DataFrame(columns=['actor', 'experiment']+[i.lower() for i in tlx_metrics])]*3\n",
    "\n",
    "def actor_sum(actor_id, metric):\n",
    "    answers = pd.read_sql_query(\"select {} from survey where valid=1 and actor={};\".format(metric, actor_id),conn)\n",
    "    if metric == 'performance':\n",
    "        answers = 10-answers\n",
    "    return float(sum(np.array(answers)))\n",
    "\n",
    "def all_mean(exp, metric):\n",
    "    answers = pd.read_sql_query(\"select {} from survey where valid=1 and experiment={};\".format(metric, exp),conn)\n",
    "    if metric == 'performance':\n",
    "        answers = 10-answers['performance']\n",
    "    return float(np.array(answers).mean())\n",
    "    \n",
    "\n",
    "for exp in range(3):\n",
    "    answers = pd.read_sql_query(\"select * from survey where valid=1 and experiment={};\".format(exp),conn)\n",
    "    for idx, row in answers.iterrows():\n",
    "        actor= row['actor']\n",
    "        data = {'actor':actor,\n",
    "               'experiment':exp}\n",
    "        for metric in [i.lower() for i in tlx_metrics]:\n",
    "            before = row[metric]\n",
    "            sum_ = actor_sum(actor, metric)\n",
    "            mean = all_mean(exp, metric)\n",
    "            \n",
    "            if sum_ <= 0:\n",
    "                norm = 0\n",
    "            else:\n",
    "                norm = before/sum_*mean\n",
    "            data.update({metric:norm})\n",
    "        load_norm[exp] = load_norm[exp].append(data, ignore_index=True)           "
   ]
  },
  {
   "cell_type": "code",
   "execution_count": 73,
   "metadata": {},
   "outputs": [
    {
     "data": {
      "image/png": "[encoded data removed]",
      "text/plain": [
       "<matplotlib.figure.Figure at 0x81220b8>"
      ]
     },
     "metadata": {},
     "output_type": "display_data"
    }
   ],
   "source": [
    "tlx_metrics = ['Mental', 'Physical', 'Temporal', 'Performance', 'Effort', 'Frustration']\n",
    "filename = 'nasa_tlx_bar'\n",
    "plt.style.use('default')\n",
    "plt.style.use('thesis.mplstyle')\n",
    "\n",
    "n_partic = pd.read_sql_query(\"select rowid from actors where valid=1 ;\", conn).size\n",
    "fig1, ax1 = plt.subplots(figsize=(6.5,5))\n",
    "\n",
    "bar_width= 0.13\n",
    "\n",
    "for idx, metric in enumerate([i.lower() for i in tlx_metrics]):\n",
    "    data = np.array([load_norm[0][metric], load_norm[1][metric], load_norm[2][metric]]).T\n",
    "    mean = data.mean(axis=0)\n",
    "    std = data.std(axis=0)\n",
    "    x_pos = np.arange(3)+1 - bar_width*3 +idx*bar_width+bar_width/2\n",
    "    \n",
    "    ax1.bar(x_pos, mean, bar_width, yerr=std, label=metric, \n",
    "            edgecolor='k', \n",
    "            linewidth=1,\n",
    "           capsize=2,\n",
    "           error_kw={'linewidth':0.8})\n",
    "\n",
    "ax1.xaxis.set_major_formatter(ticker.FuncFormatter(exp_format))\n",
    "ax1.set_xticks(np.arange(3)+1)\n",
    "plt.ylim(0,10)\n",
    "plt.legend(ncol=2)\n",
    "plt.show()"
   ]
  },
  {
   "cell_type": "code",
   "execution_count": null,
   "metadata": {},
   "outputs": [],
   "source": []
  }
 ],
 "metadata": {
  "kernelspec": {
   "display_name": "Python 3",
   "language": "python",
   "name": "python3"
  },
  "language_info": {
   "codemirror_mode": {
    "name": "ipython",
    "version": 3
   },
   "file_extension": ".py",
   "mimetype": "text/x-python",
   "name": "python",
   "nbconvert_exporter": "python",
   "pygments_lexer": "ipython3",
   "version": "3.4.4"
  }
 },
 "nbformat": 4,
 "nbformat_minor": 2
}
