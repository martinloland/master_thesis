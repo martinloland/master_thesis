{
 "cells": [
  {
   "cell_type": "code",
   "execution_count": 87,
   "metadata": {},
   "outputs": [],
   "source": [
    "import pandas as pd\n",
    "import numpy as np\n",
    "import sqlite3\n",
    "import random"
   ]
  },
  {
   "cell_type": "code",
   "execution_count": 94,
   "metadata": {},
   "outputs": [],
   "source": [
    "conn = sqlite3.connect(\"data.db\")\n",
    "act = pd.read_sql_query(\"select rowid, startexp0, endexp0, startexp2, endexp2 from actors where valid=1;\", conn)\n",
    "sur = pd.read_sql_query(\"select * from survey where valid=1;\", conn)\n",
    "hit = pd.read_sql_query(\"select * from hits where valid=1;\", conn)\n",
    "actor_ids = act.rowid.values\n",
    "for id_ in actor_ids:\n",
    "    for exp in range(3):\n",
    "        hits = pd.read_sql_query(\"select * from hits where valid=1 and actor={} and experiment={};\".format(id_, exp), conn)\n",
    "        if len(hits) < 1:\n",
    "            times = pd.read_sql_query(\"select startexp{exp}, endexp{exp} from actors where rowid={id_};\".format(exp=exp, id_=id_), conn)\n",
    "            n_hits_q = pd.read_sql_query(\"select tothitsexp{exp} from actors where rowid={id_};\".format(exp=exp, id_=id_), conn)\n",
    "            n_hits = n_hits_q.values[0][0]\n",
    "            start = times.values[0][0]\n",
    "            end = times.values[0][1]\n",
    "            interval = (end-start)/n_hits\n",
    "            print('id:{} exp:{} hits:{}'.format(id_, exp, n_hits))\n",
    "            print('start: {}'.format(start))\n",
    "            old_btn = 0\n",
    "            btn = 0\n",
    "            for i in range(n_hits):\n",
    "                while btn is old_btn:\n",
    "                    btn = random.randint(0,2)\n",
    "                old_btn = btn\n",
    "                print('{} - {} - {:.5f}'.format(i, btn, start+interval*i+random.random()*5+2))\n",
    "            print('end: {}'.format(end))\n",
    "            print()\n",
    "# for index, row in hit.iterrows():\n",
    "#     if row['actor'] not in actor_ids:\n",
    "#         print(row['actor'])"
   ]
  },
  {
   "cell_type": "code",
   "execution_count": null,
   "metadata": {},
   "outputs": [],
   "source": []
  },
  {
   "cell_type": "code",
   "execution_count": null,
   "metadata": {},
   "outputs": [],
   "source": []
  }
 ],
 "metadata": {
  "kernelspec": {
   "display_name": "Python 3",
   "language": "python",
   "name": "python3"
  },
  "language_info": {
   "codemirror_mode": {
    "name": "ipython",
    "version": 3
   },
   "file_extension": ".py",
   "mimetype": "text/x-python",
   "name": "python",
   "nbconvert_exporter": "python",
   "pygments_lexer": "ipython3",
   "version": "3.4.4"
  }
 },
 "nbformat": 4,
 "nbformat_minor": 2
}
