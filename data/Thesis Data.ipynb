{
 "cells": [
  {
   "cell_type": "markdown",
   "metadata": {},
   "source": [
    "## Import and connect to database"
   ]
  },
  {
   "cell_type": "code",
   "execution_count": 44,
   "metadata": {},
   "outputs": [],
   "source": [
    "import pandas as pd\n",
    "from scipy import stats\n",
    "import numpy as np\n",
    "import sqlite3\n",
    "import matplotlib\n",
    "import matplotlib.pyplot as plt\n",
    "import matplotlib.ticker as ticker\n",
    "from math import pi\n",
    "\n",
    "conn = sqlite3.connect(\"data.db\")\n",
    "act = pd.read_sql_query(\"select rowid, * from actors where valid=1;\", conn)"
   ]
  },
  {
   "cell_type": "markdown",
   "metadata": {},
   "source": [
    "## Constants"
   ]
  },
  {
   "cell_type": "code",
   "execution_count": 78,
   "metadata": {},
   "outputs": [],
   "source": [
    "def exp_format(x, pos=None):\n",
    "    names = {1: 'Delay',\n",
    "            2: 'Delay PD',\n",
    "            3: 'No delay'}\n",
    "    return names[x]\n",
    "\n",
    "pair_dict2 = [{'aName':'Delay', 'bName':'Delay PD', 'a':0, 'b':1},\n",
    "              {'aName':'Delay', 'bName':'No delay', 'a':0, 'b':2},\n",
    "              {'aName':'Delay PD', 'bName':'No delay', 'a':1, 'b':2}]"
   ]
  },
  {
   "cell_type": "markdown",
   "metadata": {},
   "source": [
    "### Significance, Paired sample t-test and Cohen's D"
   ]
  },
  {
   "cell_type": "code",
   "execution_count": 41,
   "metadata": {},
   "outputs": [],
   "source": [
    "from numpy import std, mean, sqrt\n",
    "\n",
    "def welch_dof(x,y):\n",
    "    dof = (x.var()/x.size + y.var()/y.size)**2 / ((x.var()/x.size)**2 / (x.size-1) + (y.var()/y.size)**2 / (y.size-1))\n",
    "    return dof\n",
    "\n",
    "def dependent_dof(x,y):\n",
    "    return (len(x)+len(y))/2-1\n",
    "\n",
    "def cohen_d(x,y):\n",
    "    x = x.tolist()\n",
    "    y = y.tolist()\n",
    "    nx = len(x)\n",
    "    ny = len(y)\n",
    "    dof = nx + ny - 2\n",
    "    return (mean(x) - mean(y)) / sqrt(((nx-1)*std(x, ddof=1) ** 2 + (ny-1)*std(y, ddof=1) ** 2) / dof)\n",
    "\n",
    "def print_sig(a, b, equal_var=False, dependent=True):\n",
    "    if len(a) == len(b):\n",
    "        t_stat, p_value = stats.ttest_rel(b, a)\n",
    "        dof = dependent_dof(a, b)\n",
    "    else:\n",
    "        dependent = False\n",
    "        t_stat, p_value = stats.ttest_ind(b, a, equal_var=equal_var)\n",
    "        dof = welch_dof(a,b)\n",
    "    d_value = cohen_d(b, a)\n",
    "\n",
    "    if dependent:\n",
    "        if p_value < 0.001:\n",
    "            print('t({:.0f})={:.2f}, p$<$.001, d={:.3f}'.format(dof, t_stat, d_value))\n",
    "        else:\n",
    "            print('t({:.0f})={:.2f}, p={:.3f}, d={:.3f}'.format(dof, t_stat, p_value, d_value))\n",
    "    else:\n",
    "        if p_value < 0.001:\n",
    "            print('t({:.2f})={:.2f}, p$<$.001, d={:.3f}'.format(dof, t_stat, d_value))\n",
    "        else:\n",
    "            print('t({:.2f})={:.2f}, p={:.3f}, d={:.3f}'.format(dof, t_stat, p_value, d_value))"
   ]
  },
  {
   "cell_type": "markdown",
   "metadata": {},
   "source": [
    "## Recorded data"
   ]
  },
  {
   "cell_type": "code",
   "execution_count": 14,
   "metadata": {},
   "outputs": [
    {
     "name": "stdout",
     "output_type": "stream",
     "text": [
      "A total of 11865 data points were collected\n"
     ]
    }
   ],
   "source": [
    "all_act = pd.read_sql_query(\"select * from actors where valid=1;\", conn)\n",
    "all_hits = pd.read_sql_query(\"select * from hits where valid=1;\", conn)\n",
    "all_survey = pd.read_sql_query(\"select * from survey where valid=1;\", conn)\n",
    "print('A total of {} data points were collected'.format(all_act.size+all_hits.size+all_survey.size))"
   ]
  },
  {
   "cell_type": "markdown",
   "metadata": {},
   "source": [
    "## Task times"
   ]
  },
  {
   "cell_type": "code",
   "execution_count": 15,
   "metadata": {},
   "outputs": [
    {
     "name": "stdout",
     "output_type": "stream",
     "text": [
      "Subjects used on average 10 minutes and 56 seconds with a standard deviation of 1min and 12s\n"
     ]
    }
   ],
   "source": [
    "times = pd.read_sql_query(\"select start, end from actors where valid=1;\", conn)\n",
    "length = np.array(times['end']-times['start'])\n",
    "minutes = length.mean()/60-length.mean()/60%1\n",
    "seconds = (length.mean()/60)%1*60\n",
    "minutes_std = length.std()/60-length.std()/60%1\n",
    "seconds_std = (length.std()/60)%1*60\n",
    "\n",
    "print('Subjects used on average {:.0f} minutes and {:.0f} seconds with a standard deviation of {:.0f}min and {:.0f}s'\n",
    "     .format(minutes, seconds, minutes_std, seconds_std))"
   ]
  },
  {
   "cell_type": "markdown",
   "metadata": {},
   "source": [
    "## Demographics"
   ]
  },
  {
   "cell_type": "code",
   "execution_count": 12,
   "metadata": {},
   "outputs": [
    {
     "name": "stdout",
     "output_type": "stream",
     "text": [
      "Gaming:\n",
      "Daily: 2, 3.5\n",
      "Weekly: 15, 26.3\n",
      "Monthly: 8, 14.0\n",
      "Yearly: 17, 29.8\n",
      "Never: 15, 26.3\n",
      "58 total participants, 1 excluded\n",
      "38 males 66.7, 19 females 33.3\n",
      "Average age of 24.7 years with a SD of 1.45\n",
      "100% said they use computer on a daily basis \n"
     ]
    }
   ],
   "source": [
    "valid_n = len(pd.read_sql_query(\"select age, gender, education, computer, eye from actors where valid=1;\", conn))\n",
    "non_valid = pd.read_sql_query(\"select age, gender, education, computer, eye from actors where valid=0;\", conn)\n",
    "female = pd.read_sql_query(\"select age, gender, education, computer, eye from actors where gender=1 and valid=1;\", conn)\n",
    "male = pd.read_sql_query(\"select age, gender, education, computer, eye from actors where gender=0 and valid=1;\", conn)\n",
    "ages_df = pd.read_sql_query(\"select age from actors where valid=1;\", conn)\n",
    "ages = np.array(ages_df)\n",
    "game = []\n",
    "frequency = ['Daily', 'Weekly', 'Monthly', 'Yearly', 'Never']\n",
    "print('Gaming:')\n",
    "for i in range(5):\n",
    "    query = \"select * from actors where valid=1 and game={};\".format(i)\n",
    "    n_people = len(pd.read_sql_query(query, conn))\n",
    "    print('{}: {}, {:.1f}'.format(frequency[i], n_people, n_people/valid_n*100))\n",
    "\n",
    "\n",
    "print('{} total participants, {} excluded'.format(valid_n+len(non_valid),len(non_valid) ))\n",
    "print('{} males {:.1f}, {} females {:.1f}'.format(len(male), len(male)/valid_n*100, len(female), len(female)/valid_n*100))\n",
    "# print('{:.1f}% females'.format(len(female)/valid_n*100))\n",
    "print('Average age of {:.1f} years with a SD of {:.2f}'.format(float(ages.mean(axis=0)), float(ages.std(axis=0))))\n",
    "print('100% said they use computer on a daily basis ')\n",
    "# print('Gaming: daily {:.0f}%, weekly {:.0f}%, monthly {:.0f}%, yearly {:.0f}% and never {:.0f}%'.format(*[i/valid_n*100 for i in game]))"
   ]
  },
  {
   "cell_type": "markdown",
   "metadata": {},
   "source": [
    "# Performance normalized"
   ]
  },
  {
   "cell_type": "code",
   "execution_count": 148,
   "metadata": {},
   "outputs": [],
   "source": [
    "def output_statistical_information(normalized_values, group_name='All', subset=False):\n",
    "    \"\"\"\n",
    "    Parameters\n",
    "    ----------\n",
    "    normalized_values : a Nx3 numpy matrix with normalized values\n",
    "    \n",
    "    group_name : str with the group or subgroup\n",
    "    \n",
    "    subset : if subset, it will print \"n\" instead of \"N\"\n",
    "    \"\"\"\n",
    "    if subset:\n",
    "        n = 'n'\n",
    "    else:\n",
    "        n = 'N'\n",
    "    \n",
    "    norm = normalized_values\n",
    "    display_means = norm.mean(axis=0)\n",
    "    display_std = norm.std(axis=0)\n",
    "    display_max = norm.max(axis=0)\n",
    "    display_min = norm.min(axis=0)\n",
    "    print('{} {}={}'.format(group_name, n, len(norm)))\n",
    "    print('\\tScore\\n')\n",
    "    for exp_idx in range(3):\n",
    "        print('\\t{:<10} Mean: {:>5.2f}, SD: {:>.2f}'\n",
    "              .format(exp_format(exp_idx+1), display_means[exp_idx], display_std[exp_idx]))\n",
    "\n",
    "    print('\\n\\tPaired difference\\n')\n",
    "    for di in pair_dict2:\n",
    "        a = norm[...,di['a']]\n",
    "        b = norm[...,di['b']]\n",
    "\n",
    "        print('\\t{:<10}- {:<10}'.format(di['aName'], di['bName']), end='')\n",
    "        print('\\t{:>6.2f}\\%     '.format((b.mean()/a.mean()-1)*100), end='')\n",
    "        print_sig(a,b)\n",
    "    print('')\n",
    "    \n",
    "\n",
    "def boxplot(normalized_values, filename=None):\n",
    "    \"\"\"\n",
    "    Parameters\n",
    "    ----------\n",
    "    normalized_values : a Nx3 numpy matrix with normalized values\n",
    "    \n",
    "    filename : str, if defined figure will be saved\n",
    "    \"\"\"\n",
    "    norm = normalized_values\n",
    "    fig, ax = plt.subplots(figsize=(4,4))\n",
    "    ax.boxplot(norm, whis=2, widths=0.5)\n",
    "    ax.xaxis.set_major_formatter(ticker.FuncFormatter(exp_format))\n",
    "    plt.ylabel('Score')\n",
    "    plt.show()\n",
    "    if filename:\n",
    "        fig.savefig('../img/{}.png'.format(filename), bbox_inches='tight')\n",
    "        \n",
    "def normalize_array(array):\n",
    "    \"\"\"\n",
    "    Parameters\n",
    "    ----------\n",
    "    array : a Nx3 numpy matrix\n",
    "    \n",
    "    Returns\n",
    "    -------\n",
    "    array : a Nx3 numpy matrix with normalized values\n",
    "    \"\"\"\n",
    "    hits = array\n",
    "    total_mean = hits.mean()\n",
    "    norm = np.zeros((hits.shape[0],3))\n",
    "    for i, row in enumerate(hits):\n",
    "        user_mean = np.array([row[0], row[1], row[2]]).mean()\n",
    "        norm[i,0] = row[0]/user_mean*total_mean\n",
    "        norm[i,1] = row[1]/user_mean*total_mean\n",
    "        norm[i,2] = row[2]/user_mean*total_mean\n",
    "    return norm\n",
    "    "
   ]
  },
  {
   "cell_type": "markdown",
   "metadata": {},
   "source": [
    "### All"
   ]
  },
  {
   "cell_type": "code",
   "execution_count": 149,
   "metadata": {},
   "outputs": [
    {
     "name": "stdout",
     "output_type": "stream",
     "text": [
      "All N=57\n",
      "\tScore\n",
      "\n",
      "\tDelay      Mean:  6.24, SD: 1.39\n",
      "\tDelay PD   Mean:  7.52, SD: 1.43\n",
      "\tNo delay   Mean: 15.87, SD: 1.99\n",
      "\n",
      "\tPaired difference\n",
      "\n",
      "\tDelay     - Delay PD  \t 20.62\\%     t(56)=4.80, p$<$.001, d=0.904\n",
      "\tDelay     - No delay  \t154.37\\%     t(56)=23.15, p$<$.001, d=5.569\n",
      "\tDelay PD  - No delay  \t110.88\\%     t(56)=19.66, p$<$.001, d=4.772\n",
      "\n"
     ]
    },
    {
     "data": {
      "image/png": "[encoded data removed]",
      "text/plain": [
       "<Figure size 400x400 with 1 Axes>"
      ]
     },
     "metadata": {},
     "output_type": "display_data"
    }
   ],
   "source": [
    "hits = np.array(pd.read_sql_query(\"select tothitsexp0, tothitsexp1, tothitsexp2 from actors where valid=1;\", conn))\n",
    "norm = normalize_array(hits)\n",
    "output_statistical_information(norm)\n",
    "boxplot(norm, 'performance_norm')"
   ]
  },
  {
   "cell_type": "markdown",
   "metadata": {},
   "source": [
    "### Gender"
   ]
  },
  {
   "cell_type": "code",
   "execution_count": 117,
   "metadata": {},
   "outputs": [
    {
     "name": "stdout",
     "output_type": "stream",
     "text": [
      "Male n=38\n",
      "\tScore\n",
      "\n",
      "\tDelay      Mean:  6.65, SD: 1.25\n",
      "\tDelay PD   Mean:  7.95, SD: 1.43\n",
      "\tNo delay   Mean: 17.30, SD: 1.71\n",
      "\n",
      "\tPaired difference\n",
      "\n",
      "\tDelay     - Delay PD  \t 19.62\\%     t(37)=3.84, p$<$.001, d=0.960\n",
      "\tDelay     - No delay  \t160.31\\%     t(37)=24.66, p$<$.001, d=7.031\n",
      "\tDelay PD  - No delay  \t117.61\\%     t(37)=19.67, p$<$.001, d=5.861\n",
      "\n",
      "Female n=19\n",
      "\tScore\n",
      "\n",
      "\tDelay      Mean:  5.39, SD: 1.49\n",
      "\tDelay PD   Mean:  6.61, SD: 1.35\n",
      "\tNo delay   Mean: 13.10, SD: 2.17\n",
      "\n",
      "\tPaired difference\n",
      "\n",
      "\tDelay     - Delay PD  \t 22.57\\%     t(18)=2.82, p=0.011, d=0.835\n",
      "\tDelay     - No delay  \t142.85\\%     t(18)=9.43, p$<$.001, d=4.033\n",
      "\tDelay PD  - No delay  \t 98.14\\%     t(18)=8.35, p$<$.001, d=3.495\n",
      "\n"
     ]
    }
   ],
   "source": [
    "genders = ['Male', 'Female']\n",
    "\n",
    "for gender_idx, gender in enumerate(genders):\n",
    "    hits = np.array(pd.read_sql_query(\"select tothitsexp0, tothitsexp1, tothitsexp2 from actors where gender={} and valid=1;\"\n",
    "                                      .format(gender_idx), conn))\n",
    "    norm = normalize_array(hits)        \n",
    "    output_statistical_information(norm, gender, True)"
   ]
  },
  {
   "cell_type": "markdown",
   "metadata": {},
   "source": [
    "### Gaming"
   ]
  },
  {
   "cell_type": "code",
   "execution_count": 118,
   "metadata": {
    "scrolled": false
   },
   "outputs": [
    {
     "name": "stdout",
     "output_type": "stream",
     "text": [
      "Daily n=2\n",
      "\tScore\n",
      "\n",
      "\tDelay      Mean:  7.92, SD: 0.37\n",
      "\tDelay PD   Mean: 10.21, SD: 1.40\n",
      "\tNo delay   Mean: 18.36, SD: 1.77\n",
      "\n",
      "\tPaired difference\n",
      "\n",
      "\tDelay     - Delay PD  \t 28.88\\%     t(1)=2.22, p=0.269, d=1.578\n",
      "\tDelay     - No delay  \t131.77\\%     t(1)=4.87, p=0.129, d=5.762\n",
      "\tDelay PD  - No delay  \t 79.83\\%     t(1)=2.57, p=0.236, d=3.606\n",
      "\n",
      "Weekly n=15\n",
      "\tScore\n",
      "\n",
      "\tDelay      Mean:  6.27, SD: 1.22\n",
      "\tDelay PD   Mean:  8.17, SD: 1.51\n",
      "\tNo delay   Mean: 17.62, SD: 2.04\n",
      "\n",
      "\tPaired difference\n",
      "\n",
      "\tDelay     - Delay PD  \t 30.32\\%     t(14)=3.85, p=0.002, d=1.336\n",
      "\tDelay     - No delay  \t180.98\\%     t(14)=14.18, p$<$.001, d=6.534\n",
      "\tDelay PD  - No delay  \t115.62\\%     t(14)=10.48, p$<$.001, d=5.090\n",
      "\n",
      "Montly n=8\n",
      "\tScore\n",
      "\n",
      "\tDelay      Mean:  7.05, SD: 1.32\n",
      "\tDelay PD   Mean:  7.77, SD: 0.64\n",
      "\tNo delay   Mean: 17.68, SD: 0.95\n",
      "\n",
      "\tPaired difference\n",
      "\n",
      "\tDelay     - Delay PD  \t 10.26\\%     t(7)=1.04, p=0.334, d=0.652\n",
      "\tDelay     - No delay  \t150.84\\%     t(7)=12.76, p$<$.001, d=8.660\n",
      "\tDelay PD  - No delay  \t127.51\\%     t(7)=27.89, p$<$.001, d=11.448\n",
      "\n",
      "Yearly n=17\n",
      "\tScore\n",
      "\n",
      "\tDelay      Mean:  6.65, SD: 1.26\n",
      "\tDelay PD   Mean:  7.66, SD: 1.73\n",
      "\tNo delay   Mean: 15.98, SD: 2.25\n",
      "\n",
      "\tPaired difference\n",
      "\n",
      "\tDelay     - Delay PD  \t 15.24\\%     t(16)=2.00, p=0.063, d=0.650\n",
      "\tDelay     - No delay  \t140.31\\%     t(16)=11.65, p$<$.001, d=4.971\n",
      "\tDelay PD  - No delay  \t108.53\\%     t(16)=8.74, p$<$.001, d=4.025\n",
      "\n",
      "Never n=15\n",
      "\tScore\n",
      "\n",
      "\tDelay      Mean:  5.06, SD: 1.46\n",
      "\tDelay PD   Mean:  6.21, SD: 1.16\n",
      "\tNo delay   Mean: 12.73, SD: 1.79\n",
      "\n",
      "\tPaired difference\n",
      "\n",
      "\tDelay     - Delay PD  \t 22.54\\%     t(14)=2.21, p=0.044, d=0.836\n",
      "\tDelay     - No delay  \t151.31\\%     t(14)=9.38, p$<$.001, d=4.529\n",
      "\tDelay PD  - No delay  \t105.09\\%     t(14)=9.22, p$<$.001, d=4.169\n",
      "\n"
     ]
    }
   ],
   "source": [
    "gamers = ['Daily', 'Weekly', 'Montly', 'Yearly', 'Never']\n",
    "\n",
    "for gamer_idx, gamer in enumerate(gamers):\n",
    "    hits = np.array(pd.read_sql_query(\"select tothitsexp0, tothitsexp1, tothitsexp2 from actors where game={} and valid=1;\"\n",
    "                                      .format(gamer_idx), conn))\n",
    "    norm = normalize_array(hits)        \n",
    "    output_statistical_information(norm, gamer, True)"
   ]
  },
  {
   "cell_type": "markdown",
   "metadata": {},
   "source": [
    "### Gamers vs non gamers"
   ]
  },
  {
   "cell_type": "code",
   "execution_count": 121,
   "metadata": {},
   "outputs": [
    {
     "name": "stdout",
     "output_type": "stream",
     "text": [
      "Gamers n=17\n",
      "\tScore\n",
      "\n",
      "\tDelay      Mean:  6.46, SD: 1.19\n",
      "\tDelay PD   Mean:  8.40, SD: 1.53\n",
      "\tNo delay   Mean: 17.73, SD: 2.08\n",
      "\n",
      "\tPaired difference\n",
      "\n",
      "\tDelay     - Delay PD  \t 30.13\\%     t(16)=4.34, p$<$.001, d=1.376\n",
      "\tDelay     - No delay  \t174.64\\%     t(16)=14.93, p$<$.001, d=6.463\n",
      "\tDelay PD  - No delay  \t111.05\\%     t(16)=10.83, p$<$.001, d=4.965\n",
      "\n",
      "Non gamers n=40\n",
      "\tScore\n",
      "\n",
      "\tDelay      Mean:  6.12, SD: 1.41\n",
      "\tDelay PD   Mean:  7.16, SD: 1.39\n",
      "\tNo delay   Mean: 15.09, SD: 1.93\n",
      "\n",
      "\tPaired difference\n",
      "\n",
      "\tDelay     - Delay PD  \t 16.91\\%     t(39)=3.20, p=0.003, d=0.731\n",
      "\tDelay     - No delay  \t146.46\\%     t(39)=18.16, p$<$.001, d=5.237\n",
      "\tDelay PD  - No delay  \t110.80\\%     t(39)=16.21, p$<$.001, d=4.655\n",
      "\n"
     ]
    }
   ],
   "source": [
    "gamers = np.array(pd.read_sql_query(\"select tothitsexp0, tothitsexp1, tothitsexp2 from actors where valid=1 and game<=1;\", conn))\n",
    "non_gamers = np.array(pd.read_sql_query(\"select tothitsexp0, tothitsexp1, tothitsexp2 from actors where valid=1 and game>1;\", conn))\n",
    "\n",
    "output_statistical_information(normalize_array(gamers), 'Gamers', True)\n",
    "output_statistical_information(normalize_array(non_gamers), 'Non gamers', True)"
   ]
  },
  {
   "cell_type": "markdown",
   "metadata": {},
   "source": [
    "## Load index"
   ]
  },
  {
   "cell_type": "markdown",
   "metadata": {},
   "source": [
    "#### Absolute"
   ]
  },
  {
   "cell_type": "code",
   "execution_count": 130,
   "metadata": {},
   "outputs": [
    {
     "data": {
      "image/png": "[encoded data removed]",
      "text/plain": [
       "<Figure size 500x400 with 1 Axes>"
      ]
     },
     "metadata": {},
     "output_type": "display_data"
    },
    {
     "name": "stdout",
     "output_type": "stream",
     "text": [
      "Mental N=57\n",
      "\tScore\n",
      "\n",
      "\tDelay      Mean:  5.67, SD: 2.05\n",
      "\tDelay PD   Mean:  5.51, SD: 2.25\n",
      "\tNo delay   Mean:  3.56, SD: 2.03\n",
      "\n",
      "\tPaired difference\n",
      "\n",
      "\tDelay     - Delay PD  \t -2.79\\%     t(56)=-0.67, p=0.504, d=-0.073\n",
      "\tDelay     - No delay  \t-37.15\\%     t(56)=-9.31, p$<$.001, d=-1.025\n",
      "\tDelay PD  - No delay  \t-35.35\\%     t(56)=-6.36, p$<$.001, d=-0.902\n",
      "\n",
      "Physical N=57\n",
      "\tScore\n",
      "\n",
      "\tDelay      Mean:  2.88, SD: 2.14\n",
      "\tDelay PD   Mean:  2.84, SD: 2.19\n",
      "\tNo delay   Mean:  2.18, SD: 1.84\n",
      "\n",
      "\tPaired difference\n",
      "\n",
      "\tDelay     - Delay PD  \t -1.22\\%     t(56)=-0.16, p=0.874, d=-0.016\n",
      "\tDelay     - No delay  \t-24.39\\%     t(56)=-3.10, p=0.003, d=-0.349\n",
      "\tDelay PD  - No delay  \t-23.46\\%     t(56)=-3.15, p=0.003, d=-0.327\n",
      "\n",
      "Temporal N=57\n",
      "\tScore\n",
      "\n",
      "\tDelay      Mean:  5.84, SD: 2.08\n",
      "\tDelay PD   Mean:  5.67, SD: 2.10\n",
      "\tNo delay   Mean:  5.39, SD: 2.30\n",
      "\n",
      "\tPaired difference\n",
      "\n",
      "\tDelay     - Delay PD  \t -3.00\\%     t(56)=-0.79, p=0.431, d=-0.083\n",
      "\tDelay     - No delay  \t -7.81\\%     t(56)=-1.93, p=0.059, d=-0.206\n",
      "\tDelay PD  - No delay  \t -4.95\\%     t(56)=-0.97, p=0.335, d=-0.126\n",
      "\n",
      "Performance N=57\n",
      "\tScore\n",
      "\n",
      "\tDelay      Mean:  5.53, SD: 2.29\n",
      "\tDelay PD   Mean:  4.74, SD: 2.05\n",
      "\tNo delay   Mean:  2.70, SD: 1.60\n",
      "\n",
      "\tPaired difference\n",
      "\n",
      "\tDelay     - Delay PD  \t-14.29\\%     t(56)=-3.24, p=0.002, d=-0.360\n",
      "\tDelay     - No delay  \t-51.11\\%     t(56)=-11.76, p$<$.001, d=-1.415\n",
      "\tDelay PD  - No delay  \t-42.96\\%     t(56)=-9.58, p$<$.001, d=-1.098\n",
      "\n",
      "Effort N=57\n",
      "\tScore\n",
      "\n",
      "\tDelay      Mean:  6.02, SD: 1.94\n",
      "\tDelay PD   Mean:  5.77, SD: 1.99\n",
      "\tNo delay   Mean:  4.67, SD: 2.08\n",
      "\n",
      "\tPaired difference\n",
      "\n",
      "\tDelay     - Delay PD  \t -4.08\\%     t(56)=-1.05, p=0.298, d=-0.124\n",
      "\tDelay     - No delay  \t-22.45\\%     t(56)=-6.34, p$<$.001, d=-0.665\n",
      "\tDelay PD  - No delay  \t-19.15\\%     t(56)=-4.59, p$<$.001, d=-0.538\n",
      "\n",
      "Frustration N=57\n",
      "\tScore\n",
      "\n",
      "\tDelay      Mean:  5.65, SD: 2.35\n",
      "\tDelay PD   Mean:  5.04, SD: 2.13\n",
      "\tNo delay   Mean:  2.44, SD: 1.79\n",
      "\n",
      "\tPaired difference\n",
      "\n",
      "\tDelay     - Delay PD  \t-10.87\\%     t(56)=-2.15, p=0.036, d=-0.271\n",
      "\tDelay     - No delay  \t-56.83\\%     t(56)=-10.70, p$<$.001, d=-1.524\n",
      "\tDelay PD  - No delay  \t-51.57\\%     t(56)=-8.23, p$<$.001, d=-1.310\n",
      "\n"
     ]
    }
   ],
   "source": [
    "tlx_metrics = ['Mental', 'Physical', 'Temporal', 'Performance', 'Effort', 'Frustration']\n",
    "filename = 'nasa_tlx_bar'\n",
    "plt.style.use('default')\n",
    "plt.style.use('thesis.mplstyle')\n",
    "\n",
    "n_partic = pd.read_sql_query(\"select rowid from actors where valid=1 ;\", conn).size\n",
    "fig1, ax1 = plt.subplots(figsize=(5,4))\n",
    "tlx_answers = []\n",
    "\n",
    "bar_width= 0.13\n",
    "\n",
    "for idx, metric in enumerate(tlx_metrics):\n",
    "    data = np.zeros([n_partic,3])\n",
    "    for exp in range(3):\n",
    "        load = pd.read_sql_query(\"select {} from survey where valid=1 and experiment={};\"\n",
    "                                 .format(metric, exp), conn)\n",
    "        data[...,exp] = np.reshape(np.array(load),(57,))\n",
    "    if metric == 'Performance':\n",
    "        data = np.ones_like(data)*10-data\n",
    "    mean_ = data.mean(axis=0)\n",
    "    std_ = data.std(axis=0)\n",
    "    x_pos = np.arange(3)+1 - bar_width*3 +idx*bar_width+bar_width/2\n",
    "    tlx_answers.append(data)\n",
    "    \n",
    "    ax1.bar(x_pos, mean_, bar_width, yerr=std_, label=metric, \n",
    "            edgecolor='k', \n",
    "            linewidth=1,\n",
    "           capsize=2,\n",
    "           error_kw={'linewidth':0.8})\n",
    "\n",
    "\n",
    "ax1.xaxis.set_major_formatter(ticker.FuncFormatter(exp_format))\n",
    "ax1.set_xticks(np.arange(3)+1)\n",
    "plt.ylim(0,10)\n",
    "plt.legend(ncol=2, fontsize='small')\n",
    "plt.show()\n",
    "# fig1.savefig('../img/{}.png'.format(filename), bbox_inches='tight')\n",
    "for idx, metric in enumerate(tlx_answers):\n",
    "    output_statistical_information(metric, tlx_metrics[idx])"
   ]
  },
  {
   "cell_type": "markdown",
   "metadata": {},
   "source": [
    "#### Significance"
   ]
  },
  {
   "cell_type": "code",
   "execution_count": 316,
   "metadata": {},
   "outputs": [
    {
     "name": "stdout",
     "output_type": "stream",
     "text": [
      "t(56)=6.36, p$<$.001, d=0.902\n",
      "[5.66666667 5.50877193 3.56140351]\n",
      "3% decrease in subjective latency using predictor screen\n"
     ]
    }
   ],
   "source": [
    "metric = 0\n",
    "g0 = tlx_answers[metric][...,1]\n",
    "g1 = tlx_answers[metric][...,2]\n",
    "print_sig(g1, g0)\n",
    "answers_means = np.copy(tlx_answers[metric]).mean(axis=0)\n",
    "print(answers_means)\n",
    "print('{:.0f}% decrease in subjective latency using predictor screen'.format((1-answers_means[1]/answers_means[0])*100))"
   ]
  },
  {
   "cell_type": "markdown",
   "metadata": {},
   "source": [
    "### Subjective delay vs frustration"
   ]
  },
  {
   "cell_type": "code",
   "execution_count": 176,
   "metadata": {},
   "outputs": [
    {
     "name": "stdout",
     "output_type": "stream",
     "text": [
      "$R^2=0.01$, p=0.20669, err=0.00058\n"
     ]
    },
    {
     "data": {
      "image/png": "[encoded data removed]",
      "text/plain": [
       "<Figure size 500x400 with 1 Axes>"
      ]
     },
     "metadata": {},
     "output_type": "display_data"
    }
   ],
   "source": [
    "def avg_actor_delay(id):\n",
    "    avg_delay = np.array(pd.read_sql_query(\"select delay from survey where valid=1 and actor={}\".format(id), conn)).mean()\n",
    "    return avg_delay\n",
    "\n",
    "def avg_actor_frustration(id):\n",
    "    avg_frus = np.array(pd.read_sql_query(\"select frustration from survey where valid=1 and actor={}\".format(id), conn)).mean()\n",
    "    return avg_frus\n",
    "\n",
    "total_avg_frustration = np.array(pd.read_sql_query(\"select frustration from survey where valid=1\", conn)).mean()\n",
    "total_avg_delay = np.array(pd.read_sql_query(\"select delay from survey where valid=1\", conn)).mean()\n",
    "\n",
    "act = pd.read_sql_query(\"select rowid, * from actors where valid=1;\", conn)\n",
    "actor_ids = act.rowid.values\n",
    "answ = [[],[]]\n",
    "\n",
    "normalize = True\n",
    "sel_exp = [0,1]\n",
    "filename = 'delay_vs_frustration'\n",
    "\n",
    "for actor_id in actor_ids:\n",
    "    avg_delay = avg_actor_delay(actor_id)\n",
    "    avg_frustration = avg_actor_frustration(actor_id)\n",
    "    for exp in range(3):\n",
    "        sur = pd.read_sql_query(\"select frustration, delay from survey where valid=1 and actor={} and experiment={}\"\n",
    "                                .format(actor_id, exp), conn)\n",
    "        if normalize:\n",
    "            frustration = float(sur['frustration'])/avg_frustration*total_avg_frustration\n",
    "            delay = float(sur['delay'])/avg_delay*total_avg_delay\n",
    "        else:\n",
    "            frustration = float(sur['frustration'])\n",
    "            delay = float(sur['delay'])\n",
    "            \n",
    "        if sel_exp is None or exp in sel_exp:\n",
    "            answ[0].append(frustration)\n",
    "            answ[1].append(delay)\n",
    "\n",
    "x = answ[1]\n",
    "y = answ[0]\n",
    "\n",
    "linreg = stats.linregress(x,y)\n",
    "# print(linreg)\n",
    "x_min = min(x)\n",
    "x_max = max(x)\n",
    "print('$R^2={:.2f}$, p={:.5f}, err={:.5f}'.format(linreg.rvalue**2, linreg.pvalue, linreg.stderr))\n",
    "\n",
    "plt.style.use('default')\n",
    "plt.style.use('thesis.mplstyle')\n",
    "fig, ax = plt.subplots(figsize=(5,4))\n",
    "ax.scatter(x,y, marker='o', alpha=0.5, label='Orginal\\ndata')\n",
    "ax.plot(np.arange(x_min, x_max), np.arange(x_min, x_max)*linreg.slope+linreg.intercept, label='Fitted line\\n $R^2$={:.2f}'\n",
    "        .format(linreg.rvalue**2))\n",
    "ax.legend()\n",
    "plt.ylabel('Frustration')\n",
    "plt.xlabel('Subjective delay [ms]')\n",
    "plt.ylim([-0.5,10])\n",
    "plt.show()\n",
    "# fig.savefig('../img/{}.png'.format(filename), bbox_inches='tight')"
   ]
  },
  {
   "cell_type": "markdown",
   "metadata": {},
   "source": [
    "### Subjective frustration vs performance"
   ]
  },
  {
   "cell_type": "code",
   "execution_count": 169,
   "metadata": {},
   "outputs": [
    {
     "data": {
      "image/png": "[encoded data removed]",
      "text/plain": [
       "<Figure size 500x400 with 1 Axes>"
      ]
     },
     "metadata": {},
     "output_type": "display_data"
    }
   ],
   "source": [
    "hits_id = np.array(pd.read_sql_query(\"select rowid from actors where valid=1;\", conn))\n",
    "hits = np.array(pd.read_sql_query(\"select tothitsexp0, tothitsexp1, tothitsexp2 from actors where valid=1;\", conn))\n",
    "hits_norm = normalize_array(hits)\n",
    "frustration = []\n",
    "for actor_id in hits_id:\n",
    "    rated = []\n",
    "    for exp in range(3):\n",
    "        v = pd.read_sql_query(\"select frustration from survey where valid=1 and actor={} and experiment={};\"\n",
    "                                       .format(int(actor_id), exp), conn)\n",
    "        rated.append(int(v['frustration']))\n",
    "    frustration.append(rated)\n",
    "frus = np.array(frustration)\n",
    "frus_norm = normalize_array(frus)\n",
    "\n",
    "fig, ax = plt.subplots(figsize=(5,4))\n",
    "for exp in range(3):\n",
    "    x = frus_norm[...,exp]\n",
    "    y = hits_norm[...,exp]\n",
    "    \n",
    "    ax.scatter(x,y, marker='o', alpha=0.5, label=exp)\n",
    "    plt.ylabel('Score')\n",
    "    plt.xlabel('Frustration')\n",
    "plt.show()"
   ]
  },
  {
   "cell_type": "markdown",
   "metadata": {},
   "source": [
    "## Delay times"
   ]
  },
  {
   "cell_type": "code",
   "execution_count": 100,
   "metadata": {},
   "outputs": [],
   "source": [
    "data = pd.DataFrame()\n",
    "for exp in range(3):\n",
    "    data[exp] = pd.read_sql_query(\"select delay from survey where valid=1 and experiment={} order by actor asc;\".format(exp), conn)\n",
    "times = np.array(data)"
   ]
  },
  {
   "cell_type": "markdown",
   "metadata": {},
   "source": [
    "### Absolute"
   ]
  },
  {
   "cell_type": "code",
   "execution_count": 101,
   "metadata": {},
   "outputs": [
    {
     "data": {
      "image/png": "[encoded data removed]",
      "text/plain": [
       "<Figure size 400x400 with 1 Axes>"
      ]
     },
     "metadata": {},
     "output_type": "display_data"
    }
   ],
   "source": [
    "filename = 'subjective_delay_abs'\n",
    "matplotlib.rcParams.update({'font.size': 11})\n",
    "fig, ax = plt.subplots(figsize=(4,4))\n",
    "ax.boxplot(times, widths=0.5)\n",
    "ax.xaxis.set_major_formatter(ticker.FuncFormatter(exp_format))\n",
    "ax.plot([0.6,1.4], [750, 750], 'k', alpha=0.3, label='Actual delay')\n",
    "ax.plot([1.6,2.4], [750, 750], 'k', alpha=0.3)\n",
    "ax.plot([2.6,3.4], [250, 250], 'k', alpha=0.3)\n",
    "ax.legend()\n",
    "plt.ylabel('Delay [s]')\n",
    "plt.ylim([-100,2100])\n",
    "plt.show()\n",
    "# fig.savefig('../img/{}.png'.format(filename), bbox_inches='tight')"
   ]
  },
  {
   "cell_type": "markdown",
   "metadata": {},
   "source": [
    "### Normalized"
   ]
  },
  {
   "cell_type": "code",
   "execution_count": 103,
   "metadata": {},
   "outputs": [],
   "source": [
    "sums = times.sum(axis=1)\n",
    "averages = np.copy(times).mean(axis=0)\n",
    "total_delay_average = np.copy(times).mean()\n",
    "normalized = np.copy(times)\n",
    "for idx, row in enumerate(normalized):\n",
    "    user_avg = np.array([row[0], row[1], row[2]]).mean()\n",
    "    row[0] = row[0]/user_avg*total_delay_average\n",
    "    row[1] = row[1]/user_avg*total_delay_average\n",
    "    row[2] = row[2]/user_avg*total_delay_average"
   ]
  },
  {
   "cell_type": "code",
   "execution_count": 104,
   "metadata": {},
   "outputs": [
    {
     "data": {
      "image/png": "[encoded data removed]",
      "text/plain": [
       "<Figure size 500x400 with 1 Axes>"
      ]
     },
     "metadata": {},
     "output_type": "display_data"
    }
   ],
   "source": [
    "plt.style.use('classic')\n",
    "plt.style.use('thesis.mplstyle')\n",
    "filename = 'subjective_delay_norm'\n",
    "fig, ax = plt.subplots(figsize=(5,4))\n",
    "ax.boxplot(normalized, widths=0.5)\n",
    "ax.plot([0.6,1.4], [750, 750], 'k', alpha=0.5, label='Actual delay')\n",
    "ax.plot([1.6,2.4], [750, 750], 'k', alpha=0.5)\n",
    "ax.plot([2.6,3.4], [250, 250], 'k', alpha=0.5)\n",
    "ax.legend()\n",
    "ax.xaxis.set_major_formatter(ticker.FuncFormatter(exp_format))\n",
    "plt.ylabel('Delay [s]')\n",
    "plt.ylim([-100,1800])\n",
    "plt.show()\n",
    "# fig.savefig('../img/{}.png'.format(filename), bbox_inches='tight')"
   ]
  },
  {
   "cell_type": "code",
   "execution_count": 244,
   "metadata": {},
   "outputs": [
    {
     "name": "stdout",
     "output_type": "stream",
     "text": [
      "11% decrease in subjective latency using predictor screen\n",
      "t(56)=1.40, p=0.167, d=0.356\n"
     ]
    }
   ],
   "source": [
    "norm_avg = np.copy(normalized).mean(axis=0)\n",
    "print('{:.0f}% decrease in subjective latency using predictor screen'.format((1-norm_avg[1]/norm_avg[0])*100))\n",
    "print_sig(normalized[...,1], normalized[...,0])"
   ]
  },
  {
   "cell_type": "markdown",
   "metadata": {},
   "source": [
    "## Key presses"
   ]
  },
  {
   "cell_type": "code",
   "execution_count": 95,
   "metadata": {},
   "outputs": [],
   "source": [
    "data = pd.read_sql_query(\"select keydowns0, keydowns1, keydowns2 from actors where valid=1;\", conn)\n",
    "keys = np.array(data)"
   ]
  },
  {
   "cell_type": "markdown",
   "metadata": {},
   "source": [
    "#### Absolute"
   ]
  },
  {
   "cell_type": "code",
   "execution_count": 96,
   "metadata": {},
   "outputs": [
    {
     "data": {
      "image/png": "[encoded data removed]",
      "text/plain": [
       "<Figure size 500x400 with 1 Axes>"
      ]
     },
     "metadata": {},
     "output_type": "display_data"
    }
   ],
   "source": [
    "filename = 'keypresses'\n",
    "matplotlib.rcParams.update({'font.size': 10})\n",
    "fig, ax = plt.subplots(figsize=(5,4))\n",
    "ax.boxplot(keys, widths=0.5)\n",
    "ax.xaxis.set_major_formatter(ticker.FuncFormatter(exp_format))\n",
    "plt.ylabel('Key presses')\n",
    "plt.show()\n",
    "# fig.savefig('../img/{}.png'.format(filename), bbox_inches='tight')"
   ]
  },
  {
   "cell_type": "markdown",
   "metadata": {},
   "source": [
    "## Learning effect"
   ]
  },
  {
   "cell_type": "code",
   "execution_count": 93,
   "metadata": {
    "scrolled": false
   },
   "outputs": [
    {
     "data": {
      "image/png": "[encoded data removed]",
      "text/plain": [
       "<Figure size 500x400 with 1 Axes>"
      ]
     },
     "metadata": {},
     "output_type": "display_data"
    }
   ],
   "source": [
    "def condition_format(x, pos=None):\n",
    "    names = ['#1', '#2', '#3']*3\n",
    "    return names[x-1]\n",
    "\n",
    "filename = 'learning_effect'\n",
    "\n",
    "pos = [[0,1,2,4,3,5],\n",
    "      [2,3,0,5,1,4],\n",
    "      [4,5,1,3,0,2]]\n",
    "\n",
    "all_li = []\n",
    "\n",
    "for exp in range(3):\n",
    "    first = pd.read_sql_query(\"select tothitsexp{} from actors where valid=1 and crowd={} or crowd={};\"\n",
    "                              .format(exp, pos[exp][0], pos[exp][1]), conn)\n",
    "    middle = pd.read_sql_query(\"select tothitsexp{} from actors where valid=1 and crowd={} or crowd={};\"\n",
    "                              .format(exp, pos[exp][2], pos[exp][3]), conn)\n",
    "    last = pd.read_sql_query(\"select tothitsexp{} from actors where valid=1 and crowd={} or crowd={};\"\n",
    "                              .format(exp, pos[exp][4], pos[exp][5]), conn)\n",
    "\n",
    "    li = [first['tothitsexp'+str(exp)], middle['tothitsexp'+str(exp)],last['tothitsexp'+str(exp)]]\n",
    "    all_li.extend(li)\n",
    "\n",
    "fig, ax = plt.subplots(figsize=(5,4))\n",
    "ax.boxplot([list(i) for i in all_li])\n",
    "ax.plot([3.5, 3.5],[0,23])\n",
    "ax.plot([6.5, 6.5],[0,23])\n",
    "plt.ylabel('Score')\n",
    "plt.text(2, 20, 'Delay', fontsize=10, ha='center')\n",
    "plt.text(5, 20, 'Delay PD', fontsize=10, ha='center')\n",
    "plt.text(8, 4, 'No delay', fontsize=10, ha='center')\n",
    "ax.xaxis.set_major_formatter(ticker.FuncFormatter(condition_format))\n",
    "plt.ylim([0,23])\n",
    "plt.show()\n",
    "# fig.savefig('../img/{}.png'.format(filename), bbox_inches='tight')"
   ]
  },
  {
   "cell_type": "code",
   "execution_count": 142,
   "metadata": {},
   "outputs": [
    {
     "name": "stdout",
     "output_type": "stream",
     "text": [
      "18\n",
      "t(17)=3.26, p=0.005, d=0.902\n"
     ]
    }
   ],
   "source": [
    "num1 = 6\n",
    "num2 = num1+1\n",
    "ns = min(len(all_li[num1]), len(all_li[num2]))\n",
    "print(ns)\n",
    "\n",
    "print_sig(all_li[num1][:ns], all_li[num2][:ns])"
   ]
  },
  {
   "cell_type": "code",
   "execution_count": 181,
   "metadata": {},
   "outputs": [
    {
     "name": "stdout",
     "output_type": "stream",
     "text": [
      "Group 0 n=9\n",
      "\tScore\n",
      "\n",
      "\tDelay      Mean:  5.08, SD: 1.21\n",
      "\tDelay PD   Mean:  7.40, SD: 1.13\n",
      "\tNo delay   Mean: 15.40, SD: 1.83\n",
      "\n",
      "\tPaired difference\n",
      "\n",
      "\tDelay     - Delay PD  \t 45.58\\%     t(8)=4.49, p=0.002, d=1.867\n",
      "\tDelay     - No delay  \t203.00\\%     t(8)=10.11, p$<$.001, d=6.274\n",
      "\tDelay PD  - No delay  \t108.13\\%     t(8)=8.11, p$<$.001, d=4.960\n",
      "\n",
      "Group 1 n=10\n",
      "\tScore\n",
      "\n",
      "\tDelay      Mean:  6.24, SD: 0.72\n",
      "\tDelay PD   Mean:  8.45, SD: 0.96\n",
      "\tNo delay   Mean: 17.41, SD: 1.02\n",
      "\n",
      "\tPaired difference\n",
      "\n",
      "\tDelay     - Delay PD  \t 35.42\\%     t(9)=4.89, p$<$.001, d=2.474\n",
      "\tDelay     - No delay  \t179.12\\%     t(9)=22.73, p$<$.001, d=12.050\n",
      "\tDelay PD  - No delay  \t106.11\\%     t(9)=14.59, p$<$.001, d=8.602\n",
      "\n",
      "Group 2 n=10\n",
      "\tScore\n",
      "\n",
      "\tDelay      Mean:  6.65, SD: 1.15\n",
      "\tDelay PD   Mean:  6.32, SD: 1.03\n",
      "\tNo delay   Mean: 17.04, SD: 1.51\n",
      "\n",
      "\tPaired difference\n",
      "\n",
      "\tDelay     - Delay PD  \t -4.98\\%     t(9)=-0.63, p=0.544, d=-0.288\n",
      "\tDelay     - No delay  \t156.29\\%     t(9)=12.57, p$<$.001, d=7.347\n",
      "\tDelay PD  - No delay  \t169.73\\%     t(9)=13.93, p$<$.001, d=7.884\n",
      "\n",
      "Group 3 n=10\n",
      "\tScore\n",
      "\n",
      "\tDelay      Mean:  6.58, SD: 1.52\n",
      "\tDelay PD   Mean:  6.57, SD: 0.57\n",
      "\tNo delay   Mean: 16.76, SD: 1.59\n",
      "\n",
      "\tPaired difference\n",
      "\n",
      "\tDelay     - Delay PD  \t -0.13\\%     t(9)=-0.01, p=0.988, d=-0.007\n",
      "\tDelay     - No delay  \t154.87\\%     t(9)=9.99, p$<$.001, d=6.211\n",
      "\tDelay PD  - No delay  \t155.19\\%     t(9)=16.53, p$<$.001, d=8.081\n",
      "\n",
      "Group 4 n=9\n",
      "\tScore\n",
      "\n",
      "\tDelay      Mean:  6.78, SD: 0.91\n",
      "\tDelay PD   Mean:  8.42, SD: 1.33\n",
      "\tNo delay   Mean: 14.69, SD: 1.45\n",
      "\n",
      "\tPaired difference\n",
      "\n",
      "\tDelay     - Delay PD  \t 24.34\\%     t(8)=2.66, p=0.029, d=1.366\n",
      "\tDelay     - No delay  \t116.81\\%     t(8)=11.05, p$<$.001, d=6.163\n",
      "\tDelay PD  - No delay  \t 74.38\\%     t(8)=6.74, p$<$.001, d=4.248\n",
      "\n",
      "Group 5 n=9\n",
      "\tScore\n",
      "\n",
      "\tDelay      Mean:  6.03, SD: 1.84\n",
      "\tDelay PD   Mean:  8.04, SD: 1.45\n",
      "\tNo delay   Mean: 13.59, SD: 2.58\n",
      "\n",
      "\tPaired difference\n",
      "\n",
      "\tDelay     - Delay PD  \t 33.42\\%     t(8)=2.74, p=0.026, d=1.147\n",
      "\tDelay     - No delay  \t125.50\\%     t(8)=5.06, p$<$.001, d=3.190\n",
      "\tDelay PD  - No delay  \t 69.02\\%     t(8)=4.18, p=0.003, d=2.503\n",
      "\n"
     ]
    }
   ],
   "source": [
    "for group in range(6):\n",
    "    hits = pd.read_sql_query(\"select tothitsexp0, tothitsexp1, tothitsexp2 from actors where valid=1 and crowd={};\".format(group), conn)\n",
    "    norm = normalize_array(np.array(hits))\n",
    "    output_statistical_information(norm, 'Group {}'.format(group), True)"
   ]
  },
  {
   "cell_type": "markdown",
   "metadata": {},
   "source": [
    "## Gamers"
   ]
  },
  {
   "cell_type": "code",
   "execution_count": 122,
   "metadata": {},
   "outputs": [
    {
     "data": {
      "image/png": "[encoded data removed]",
      "text/plain": [
       "<Figure size 500x400 with 1 Axes>"
      ]
     },
     "metadata": {},
     "output_type": "display_data"
    }
   ],
   "source": [
    "def game_format(x, pos=None):\n",
    "    names = {1: 'Delay',\n",
    "             2: 'Delay\\ngamer',\n",
    "            3: 'Delay PD',\n",
    "            4: 'Delay PD\\ngamer',\n",
    "            5: 'No delay',\n",
    "            6: 'No delay\\ngamer'}\n",
    "    return names[x]\n",
    "\n",
    "gamers = pd.read_sql_query(\"select rowid, * from actors where valid=1 and game<=1;\", conn)\n",
    "ga = np.array(gamers[['tothitsexp0', 'tothitsexp1', 'tothitsexp2']])\n",
    "non_gamers = pd.read_sql_query(\"select rowid, * from actors where valid=1 and game >1;\", conn)\n",
    "no = np.array(non_gamers[['tothitsexp0', 'tothitsexp1', 'tothitsexp2']])\n",
    "\n",
    "game_per = len(gamers)/(len(gamers)+len(non_gamers))\n",
    "\n",
    "filename = 'gamer_performance'\n",
    "fig1, ax1 = plt.subplots(figsize=(5,4))\n",
    "# ax1.set_title('Performance gamers vs non gamers')\n",
    "ax1.boxplot([no[...,0], ga[...,0], no[...,1], ga[...,1], no[...,2], ga[...,2]])\n",
    "ax1.xaxis.set_major_formatter(ticker.FuncFormatter(game_format))\n",
    "plt.ylabel('Score')\n",
    "plt.text(0.7, 21, 'gamer: plays weekly or more\\n            {:.0f}% of participants'.format(game_per*100), fontsize=10)\n",
    "plt.xticks(rotation=-30)\n",
    "plt.ylim([0,23.5])\n",
    "plt.show()\n",
    "# fig1.savefig('../img/{}.png'.format(filename), bbox_inches='tight')"
   ]
  },
  {
   "cell_type": "code",
   "execution_count": 157,
   "metadata": {},
   "outputs": [
    {
     "name": "stdout",
     "output_type": "stream",
     "text": [
      "t(39)=3.27, p=0.002, d=0.577\n",
      "t(16)=4.17, p<.001, d=1.018\n"
     ]
    }
   ],
   "source": [
    "exp = 2\n",
    "print_sig(no[...,0], no[...,1])\n",
    "print_sig(ga[...,0], ga[...,1])"
   ]
  }
 ],
 "metadata": {
  "kernelspec": {
   "display_name": "Python 3",
   "language": "python",
   "name": "python3"
  },
  "language_info": {
   "codemirror_mode": {
    "name": "ipython",
    "version": 3
   },
   "file_extension": ".py",
   "mimetype": "text/x-python",
   "name": "python",
   "nbconvert_exporter": "python",
   "pygments_lexer": "ipython3",
   "version": "3.6.2"
  }
 },
 "nbformat": 4,
 "nbformat_minor": 2
}
