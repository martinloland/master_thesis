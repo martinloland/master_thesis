{
 "cells": [
  {
   "cell_type": "code",
   "execution_count": 52,
   "metadata": {},
   "outputs": [],
   "source": [
    "import pandas as pd\n",
    "import numpy as np\n",
    "import sqlite3\n",
    "np.set_printoptions(suppress=True)\n",
    "from math import sqrt"
   ]
  },
  {
   "cell_type": "code",
   "execution_count": 67,
   "metadata": {},
   "outputs": [],
   "source": [
    "conn = sqlite3.connect(\"data.db\")\n",
    "hits_df = pd.read_sql_query(\"select rowid, * from actors where valid=1;\", conn)\n",
    "hits = np.array(hits_df[['rowid', 'tothitsexp0', 'tothitsexp1']])\n",
    "# a = hits[[i for i in range(0,40)],...]\n",
    "a = hits"
   ]
  },
  {
   "cell_type": "code",
   "execution_count": 72,
   "metadata": {},
   "outputs": [],
   "source": [
    "# a = np.array([\n",
    "#     [1,3,20],\n",
    "#     [2,3,13],\n",
    "#     [3,3,13],\n",
    "#     [4,12,20],\n",
    "#     [5,15,29],\n",
    "#     [6,16,32],\n",
    "#     [7,17,23],\n",
    "#     [8,19,20],\n",
    "#     [9,23,25],\n",
    "#     [10,24,15],\n",
    "#     [11,32,30]])\n",
    "N = a.shape[0]\n",
    "b = np.zeros((N, 5))\n",
    "b[:,:-2] = a\n",
    "b[:,3] = a[:,1]-a[:,2]\n",
    "b[:,4] = np.square(b[:,3])\n",
    "sums = np.sum(b, axis=0)\n",
    "# print(b)\n",
    "# print(sums)\n",
    "\n",
    "zD = sums[3] # Sum X-Y\n",
    "zDs = sums[4] # Sum (X-U)^2"
   ]
  },
  {
   "cell_type": "markdown",
   "metadata": {},
   "source": [
    "$$t=\\frac{\\left ( \\Sigma D \\right )/N}{\\sqrt{\\frac{\\Sigma D^2 - \\frac{\\left ( \\Sigma D \\right )^2}{N}}{\\left ( N-1 \\right )(N)}}}$$"
   ]
  },
  {
   "cell_type": "code",
   "execution_count": 69,
   "metadata": {},
   "outputs": [
    {
     "name": "stdout",
     "output_type": "stream",
     "text": [
      "-4.923574009565408\n"
     ]
    }
   ],
   "source": [
    "t = (zD/N)/sqrt((zDs-zD**2/N)/((N-1)*N))\n",
    "print(t)"
   ]
  },
  {
   "cell_type": "code",
   "execution_count": 71,
   "metadata": {},
   "outputs": [
    {
     "name": "stdout",
     "output_type": "stream",
     "text": [
      "56\n",
      "Yeeah\n"
     ]
    }
   ],
   "source": [
    "df = N - 1\n",
    "print(df)\n",
    "p_val = 2.228\n",
    "if abs(t) > p_val:\n",
    "    print('Yeeah')\n",
    "else:\n",
    "    print('buuuh')"
   ]
  }
 ],
 "metadata": {
  "kernelspec": {
   "display_name": "Python 3",
   "language": "python",
   "name": "python3"
  },
  "language_info": {
   "codemirror_mode": {
    "name": "ipython",
    "version": 3
   },
   "file_extension": ".py",
   "mimetype": "text/x-python",
   "name": "python",
   "nbconvert_exporter": "python",
   "pygments_lexer": "ipython3",
   "version": "3.6.2"
  }
 },
 "nbformat": 4,
 "nbformat_minor": 2
}
